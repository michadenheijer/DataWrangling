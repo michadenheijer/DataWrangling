{
 "cells": [
  {
   "cell_type": "markdown",
   "metadata": {},
   "source": [
    "# GDP\n"
   ]
  },
  {
   "cell_type": "code",
   "execution_count": 166,
   "metadata": {},
   "outputs": [],
   "source": [
    "import numpy as np\n",
    "import pandas as pd\n",
    "import matplotlib.pyplot as plt\n",
    "import statsmodels.api as sm\n",
    "import statsmodels.regression.quantile_regression as smq"
   ]
  },
  {
   "cell_type": "markdown",
   "metadata": {},
   "source": [
    "## Read Data"
   ]
  },
  {
   "cell_type": "code",
   "execution_count": 3,
   "metadata": {},
   "outputs": [],
   "source": [
    "economist: pd.DataFrame = pd.read_hdf(\"data/democracy.h5\", \"economist\")\n",
    "freedom_house: pd.DataFrame = pd.read_hdf(\"data/democracy.h5\", \"freedomhouse\")\n",
    "v_dem: pd.DataFrame = pd.read_hdf(\"data/democracy.h5\", \"vdem\")"
   ]
  },
  {
   "cell_type": "markdown",
   "metadata": {},
   "source": [
    "## Create Democracy Score"
   ]
  },
  {
   "cell_type": "code",
   "execution_count": 315,
   "metadata": {},
   "outputs": [
    {
     "data": {
      "text/plain": [
       "<AxesSubplot:xlabel='year'>"
      ]
     },
     "execution_count": 315,
     "metadata": {},
     "output_type": "execute_result"
    },
    {
     "data": {
      "image/png": "[encoded data removed]",
      "text/plain": [
       "<Figure size 432x288 with 1 Axes>"
      ]
     },
     "metadata": {
      "needs_background": "light"
     },
     "output_type": "display_data"
    }
   ],
   "source": [
    "dem_raw = economist.add_prefix(\"econ-\").join(freedom_house.add_prefix(\"free-\"), how=\"outer\").join(v_dem.add_prefix(\"v-dem-\"), how=\"outer\")\n",
    "dem = dem_raw.copy().dropna()\n",
    "dem[\"econ-score\"] /= 10\n",
    "dem[\"free-score\"] = (7 - dem[\"free-score\"])/6\n",
    "dem[\"score\"] = dem.mean(axis=1)\n",
    "dem.to_hdf(\"data/democracy.h5\", key=\"democracy\")\n",
    "dem_raw.to_hdf(\"data/democracy.h5\", key=\"democracy_raw\")\n",
    "dem.loc[\"Netherlands\"][\"score\"].plot()"
   ]
  },
  {
   "cell_type": "markdown",
   "metadata": {},
   "source": [
    "## Get GDP data\n",
    "Note: All data is in PPP (per capita) (as this is a much better measurement of wealth). Source: World Bank."
   ]
  },
  {
   "cell_type": "code",
   "execution_count": 4,
   "metadata": {},
   "outputs": [
    {
     "data": {
      "text/html": [
       "<div>\n",
       "<style scoped>\n",
       "    .dataframe tbody tr th:only-of-type {\n",
       "        vertical-align: middle;\n",
       "    }\n",
       "\n",
       "    .dataframe tbody tr th {\n",
       "        vertical-align: top;\n",
       "    }\n",
       "\n",
       "    .dataframe thead th {\n",
       "        text-align: right;\n",
       "    }\n",
       "</style>\n",
       "<table border=\"1\" class=\"dataframe\">\n",
       "  <thead>\n",
       "    <tr style=\"text-align: right;\">\n",
       "      <th></th>\n",
       "      <th></th>\n",
       "      <th>gdp_per_capita</th>\n",
       "    </tr>\n",
       "    <tr>\n",
       "      <th>country_name</th>\n",
       "      <th>year</th>\n",
       "      <th></th>\n",
       "    </tr>\n",
       "  </thead>\n",
       "  <tbody>\n",
       "    <tr>\n",
       "      <th rowspan=\"5\" valign=\"top\">Afghanistan</th>\n",
       "      <th>1960</th>\n",
       "      <td>NaN</td>\n",
       "    </tr>\n",
       "    <tr>\n",
       "      <th>1961</th>\n",
       "      <td>NaN</td>\n",
       "    </tr>\n",
       "    <tr>\n",
       "      <th>1962</th>\n",
       "      <td>NaN</td>\n",
       "    </tr>\n",
       "    <tr>\n",
       "      <th>1963</th>\n",
       "      <td>NaN</td>\n",
       "    </tr>\n",
       "    <tr>\n",
       "      <th>1964</th>\n",
       "      <td>NaN</td>\n",
       "    </tr>\n",
       "    <tr>\n",
       "      <th>...</th>\n",
       "      <th>...</th>\n",
       "      <td>...</td>\n",
       "    </tr>\n",
       "    <tr>\n",
       "      <th rowspan=\"5\" valign=\"top\">Zimbabwe</th>\n",
       "      <th>2016</th>\n",
       "      <td>2806.469032</td>\n",
       "    </tr>\n",
       "    <tr>\n",
       "      <th>2017</th>\n",
       "      <td>3795.642431</td>\n",
       "    </tr>\n",
       "    <tr>\n",
       "      <th>2018</th>\n",
       "      <td>4017.221716</td>\n",
       "    </tr>\n",
       "    <tr>\n",
       "      <th>2019</th>\n",
       "      <td>3783.547898</td>\n",
       "    </tr>\n",
       "    <tr>\n",
       "      <th>2020</th>\n",
       "      <td>3536.034132</td>\n",
       "    </tr>\n",
       "  </tbody>\n",
       "</table>\n",
       "<p>16226 rows × 1 columns</p>\n",
       "</div>"
      ],
      "text/plain": [
       "                   gdp_per_capita\n",
       "country_name year                \n",
       "Afghanistan  1960             NaN\n",
       "             1961             NaN\n",
       "             1962             NaN\n",
       "             1963             NaN\n",
       "             1964             NaN\n",
       "...                           ...\n",
       "Zimbabwe     2016     2806.469032\n",
       "             2017     3795.642431\n",
       "             2018     4017.221716\n",
       "             2019     3783.547898\n",
       "             2020     3536.034132\n",
       "\n",
       "[16226 rows x 1 columns]"
      ]
     },
     "execution_count": 4,
     "metadata": {},
     "output_type": "execute_result"
    }
   ],
   "source": [
    "gdp = pd.read_csv(\"data/gdp.csv\", skiprows=[0, 1, 2, 3], index_col=[0])\n",
    "gdp.drop([\"Country Code\", \"Indicator Name\", \"Indicator Code\", \"Unnamed: 65\"], axis=1, inplace=True)\n",
    "gdp.columns = gdp.columns.astype(int)\n",
    "gdp = gdp.unstack().reorder_levels([1, 0]).sort_index().to_frame(\"gdp_per_capita\")\n",
    "gdp.index.set_names([\"country_name\", \"year\"], inplace=True)\n",
    "gdp"
   ]
  },
  {
   "cell_type": "markdown",
   "metadata": {},
   "source": [
    "## Get GDP Growth"
   ]
  },
  {
   "cell_type": "code",
   "execution_count": 5,
   "metadata": {},
   "outputs": [
    {
     "data": {
      "text/html": [
       "<div>\n",
       "<style scoped>\n",
       "    .dataframe tbody tr th:only-of-type {\n",
       "        vertical-align: middle;\n",
       "    }\n",
       "\n",
       "    .dataframe tbody tr th {\n",
       "        vertical-align: top;\n",
       "    }\n",
       "\n",
       "    .dataframe thead th {\n",
       "        text-align: right;\n",
       "    }\n",
       "</style>\n",
       "<table border=\"1\" class=\"dataframe\">\n",
       "  <thead>\n",
       "    <tr style=\"text-align: right;\">\n",
       "      <th></th>\n",
       "      <th></th>\n",
       "      <th>gdp_growth</th>\n",
       "    </tr>\n",
       "    <tr>\n",
       "      <th>country_name</th>\n",
       "      <th>year</th>\n",
       "      <th></th>\n",
       "    </tr>\n",
       "  </thead>\n",
       "  <tbody>\n",
       "    <tr>\n",
       "      <th rowspan=\"5\" valign=\"top\">Afghanistan</th>\n",
       "      <th>1960</th>\n",
       "      <td>NaN</td>\n",
       "    </tr>\n",
       "    <tr>\n",
       "      <th>1961</th>\n",
       "      <td>NaN</td>\n",
       "    </tr>\n",
       "    <tr>\n",
       "      <th>1962</th>\n",
       "      <td>NaN</td>\n",
       "    </tr>\n",
       "    <tr>\n",
       "      <th>1963</th>\n",
       "      <td>NaN</td>\n",
       "    </tr>\n",
       "    <tr>\n",
       "      <th>1964</th>\n",
       "      <td>NaN</td>\n",
       "    </tr>\n",
       "    <tr>\n",
       "      <th>...</th>\n",
       "      <th>...</th>\n",
       "      <td>...</td>\n",
       "    </tr>\n",
       "    <tr>\n",
       "      <th rowspan=\"5\" valign=\"top\">Zimbabwe</th>\n",
       "      <th>2016</th>\n",
       "      <td>-0.793105</td>\n",
       "    </tr>\n",
       "    <tr>\n",
       "      <th>2017</th>\n",
       "      <td>3.192453</td>\n",
       "    </tr>\n",
       "    <tr>\n",
       "      <th>2018</th>\n",
       "      <td>3.356166</td>\n",
       "    </tr>\n",
       "    <tr>\n",
       "      <th>2019</th>\n",
       "      <td>-7.468627</td>\n",
       "    </tr>\n",
       "    <tr>\n",
       "      <th>2020</th>\n",
       "      <td>-7.620388</td>\n",
       "    </tr>\n",
       "  </tbody>\n",
       "</table>\n",
       "<p>16226 rows × 1 columns</p>\n",
       "</div>"
      ],
      "text/plain": [
       "                   gdp_growth\n",
       "country_name year            \n",
       "Afghanistan  1960         NaN\n",
       "             1961         NaN\n",
       "             1962         NaN\n",
       "             1963         NaN\n",
       "             1964         NaN\n",
       "...                       ...\n",
       "Zimbabwe     2016   -0.793105\n",
       "             2017    3.192453\n",
       "             2018    3.356166\n",
       "             2019   -7.468627\n",
       "             2020   -7.620388\n",
       "\n",
       "[16226 rows x 1 columns]"
      ]
     },
     "execution_count": 5,
     "metadata": {},
     "output_type": "execute_result"
    }
   ],
   "source": [
    "gdp_growth = pd.read_csv(\"data/gdp_growth.csv\", skiprows=[0, 1, 2, 3], index_col=[0])\n",
    "gdp_growth.drop([\"Country Code\", \"Indicator Name\", \"Indicator Code\", \"Unnamed: 65\"], axis=1, inplace=True)\n",
    "gdp_growth.columns = gdp_growth.columns.astype(int)\n",
    "gdp_growth = gdp_growth.unstack().reorder_levels([1, 0]).sort_index().to_frame(\"gdp_growth\")\n",
    "gdp_growth.index.set_names([\"country_name\", \"year\"], inplace=True)\n",
    "gdp_growth"
   ]
  },
  {
   "cell_type": "markdown",
   "metadata": {},
   "source": [
    "## GDP to Democracy\n",
    "\n",
    "Least Absolute Deviations because of the large outliers."
   ]
  },
  {
   "cell_type": "code",
   "execution_count": 314,
   "metadata": {},
   "outputs": [
    {
     "data": {
      "image/png": "[encoded data removed]",
      "text/plain": [
       "<Figure size 432x288 with 1 Axes>"
      ]
     },
     "metadata": {
      "needs_background": "light"
     },
     "output_type": "display_data"
    },
    {
     "data": {
      "text/html": [
       "<table class=\"simpletable\">\n",
       "<caption>QuantReg Regression Results</caption>\n",
       "<tr>\n",
       "  <th>Dep. Variable:</th>  <td>gdp_per_capita</td>  <th>  Pseudo R-squared:  </th> <td>  0.2604</td>\n",
       "</tr>\n",
       "<tr>\n",
       "  <th>Model:</th>             <td>QuantReg</td>     <th>  Bandwidth:         </th> <td>  0.6252</td>\n",
       "</tr>\n",
       "<tr>\n",
       "  <th>Method:</th>          <td>Least Squares</td>  <th>  Sparsity:          </th> <td>   1.788</td>\n",
       "</tr>\n",
       "<tr>\n",
       "  <th>Date:</th>          <td>Sun, 23 Jan 2022</td> <th>  No. Observations:  </th>  <td>   140</td> \n",
       "</tr>\n",
       "<tr>\n",
       "  <th>Time:</th>              <td>17:51:28</td>     <th>  Df Residuals:      </th>  <td>   138</td> \n",
       "</tr>\n",
       "<tr>\n",
       "  <th> </th>                      <td> </td>        <th>  Df Model:          </th>  <td>     1</td> \n",
       "</tr>\n",
       "</table>\n",
       "<table class=\"simpletable\">\n",
       "<tr>\n",
       "    <td></td>       <th>coef</th>     <th>std err</th>      <th>t</th>      <th>P>|t|</th>  <th>[0.025</th>    <th>0.975]</th>  \n",
       "</tr>\n",
       "<tr>\n",
       "  <th>const</th> <td>    7.2892</td> <td>    0.182</td> <td>   40.014</td> <td> 0.000</td> <td>    6.929</td> <td>    7.649</td>\n",
       "</tr>\n",
       "<tr>\n",
       "  <th>score</th> <td>    3.6978</td> <td>    0.307</td> <td>   12.037</td> <td> 0.000</td> <td>    3.090</td> <td>    4.305</td>\n",
       "</tr>\n",
       "</table>"
      ],
      "text/plain": [
       "<class 'statsmodels.iolib.summary.Summary'>\n",
       "\"\"\"\n",
       "                         QuantReg Regression Results                          \n",
       "==============================================================================\n",
       "Dep. Variable:         gdp_per_capita   Pseudo R-squared:               0.2604\n",
       "Model:                       QuantReg   Bandwidth:                      0.6252\n",
       "Method:                 Least Squares   Sparsity:                        1.788\n",
       "Date:                Sun, 23 Jan 2022   No. Observations:                  140\n",
       "Time:                        17:51:28   Df Residuals:                      138\n",
       "                                        Df Model:                            1\n",
       "==============================================================================\n",
       "                 coef    std err          t      P>|t|      [0.025      0.975]\n",
       "------------------------------------------------------------------------------\n",
       "const          7.2892      0.182     40.014      0.000       6.929       7.649\n",
       "score          3.6978      0.307     12.037      0.000       3.090       4.305\n",
       "==============================================================================\n",
       "\"\"\""
      ]
     },
     "execution_count": 314,
     "metadata": {},
     "output_type": "execute_result"
    }
   ],
   "source": [
    "gdp_pc_dem = gdp.join(dem).dropna()\n",
    "# gdp_growth_v_dem.groupby(gdp_growth_v_dem.index.get_level_values(0)).mean()\n",
    "rel_gdp_dem: pd.DataFrame =  gdp_pc_dem.loc[(slice(None), [2010, 2011, 2012, 2013, 2014, 2015, 2016, 2017, 2018, 2019]), :]\n",
    "rel_gdp_dem_avg = rel_gdp_dem.groupby(rel_gdp_dem.index.get_level_values(0)).mean()\n",
    "# rel_gdp_dem_avg = rel_gdp_dem_avg[(rel_gdp_dem_avg[\"gdp_per_capita\"] > 40000) & (rel_gdp_dem_avg[\"score\"] < 0.5) == False]\n",
    "plt.scatter(rel_gdp_dem_avg[\"score\"], rel_gdp_dem_avg[\"gdp_per_capita\"])\n",
    "model = smq.QuantReg(np.log(rel_gdp_dem_avg[\"gdp_per_capita\"]), sm.add_constant(rel_gdp_dem_avg[[\"score\"]]))\n",
    "res = model.fit(q=0.5)\n",
    "x = np.linspace(0, 1)\n",
    "plt.plot(x, np.exp(res.params[0] + res.params[1]*x))\n",
    "plt.xlabel(\"Democracy Score\")\n",
    "plt.ylabel(\"GDP per Capita ($)\")\n",
    "plt.show()\n",
    "res.summary()"
   ]
  },
  {
   "cell_type": "markdown",
   "metadata": {},
   "source": [
    "## GDP Growth to Democracy\n",
    "Note: Compensated to GDP"
   ]
  },
  {
   "cell_type": "code",
   "execution_count": 176,
   "metadata": {},
   "outputs": [
    {
     "data": {
      "image/png": "[encoded data removed]",
      "text/plain": [
       "<Figure size 432x288 with 1 Axes>"
      ]
     },
     "metadata": {
      "needs_background": "light"
     },
     "output_type": "display_data"
    },
    {
     "data": {
      "text/html": [
       "<table class=\"simpletable\">\n",
       "<caption>OLS Regression Results</caption>\n",
       "<tr>\n",
       "  <th>Dep. Variable:</th>       <td>gdp_growth</td>    <th>  R-squared:         </th> <td>   0.077</td>\n",
       "</tr>\n",
       "<tr>\n",
       "  <th>Model:</th>                   <td>OLS</td>       <th>  Adj. R-squared:    </th> <td>   0.064</td>\n",
       "</tr>\n",
       "<tr>\n",
       "  <th>Method:</th>             <td>Least Squares</td>  <th>  F-statistic:       </th> <td>   5.729</td>\n",
       "</tr>\n",
       "<tr>\n",
       "  <th>Date:</th>             <td>Sun, 23 Jan 2022</td> <th>  Prob (F-statistic):</th>  <td>0.00408</td>\n",
       "</tr>\n",
       "<tr>\n",
       "  <th>Time:</th>                 <td>14:52:14</td>     <th>  Log-Likelihood:    </th> <td> -287.92</td>\n",
       "</tr>\n",
       "<tr>\n",
       "  <th>No. Observations:</th>      <td>   140</td>      <th>  AIC:               </th> <td>   581.8</td>\n",
       "</tr>\n",
       "<tr>\n",
       "  <th>Df Residuals:</th>          <td>   137</td>      <th>  BIC:               </th> <td>   590.7</td>\n",
       "</tr>\n",
       "<tr>\n",
       "  <th>Df Model:</th>              <td>     2</td>      <th>                     </th>     <td> </td>   \n",
       "</tr>\n",
       "<tr>\n",
       "  <th>Covariance Type:</th>      <td>nonrobust</td>    <th>                     </th>     <td> </td>   \n",
       "</tr>\n",
       "</table>\n",
       "<table class=\"simpletable\">\n",
       "<tr>\n",
       "         <td></td>           <th>coef</th>     <th>std err</th>      <th>t</th>      <th>P>|t|</th>  <th>[0.025</th>    <th>0.975]</th>  \n",
       "</tr>\n",
       "<tr>\n",
       "  <th>const</th>          <td>    2.6404</td> <td>    0.391</td> <td>    6.751</td> <td> 0.000</td> <td>    1.867</td> <td>    3.414</td>\n",
       "</tr>\n",
       "<tr>\n",
       "  <th>score</th>          <td>    0.5603</td> <td>    0.727</td> <td>    0.770</td> <td> 0.442</td> <td>   -0.878</td> <td>    1.998</td>\n",
       "</tr>\n",
       "<tr>\n",
       "  <th>gdp_per_capita</th> <td>-2.949e-05</td> <td> 8.91e-06</td> <td>   -3.312</td> <td> 0.001</td> <td>-4.71e-05</td> <td>-1.19e-05</td>\n",
       "</tr>\n",
       "</table>\n",
       "<table class=\"simpletable\">\n",
       "<tr>\n",
       "  <th>Omnibus:</th>       <td> 2.574</td> <th>  Durbin-Watson:     </th> <td>   1.765</td>\n",
       "</tr>\n",
       "<tr>\n",
       "  <th>Prob(Omnibus):</th> <td> 0.276</td> <th>  Jarque-Bera (JB):  </th> <td>   2.500</td>\n",
       "</tr>\n",
       "<tr>\n",
       "  <th>Skew:</th>          <td>-0.040</td> <th>  Prob(JB):          </th> <td>   0.286</td>\n",
       "</tr>\n",
       "<tr>\n",
       "  <th>Kurtosis:</th>      <td> 3.650</td> <th>  Cond. No.          </th> <td>1.36e+05</td>\n",
       "</tr>\n",
       "</table><br/><br/>Notes:<br/>[1] Standard Errors assume that the covariance matrix of the errors is correctly specified.<br/>[2] The condition number is large, 1.36e+05. This might indicate that there are<br/>strong multicollinearity or other numerical problems."
      ],
      "text/plain": [
       "<class 'statsmodels.iolib.summary.Summary'>\n",
       "\"\"\"\n",
       "                            OLS Regression Results                            \n",
       "==============================================================================\n",
       "Dep. Variable:             gdp_growth   R-squared:                       0.077\n",
       "Model:                            OLS   Adj. R-squared:                  0.064\n",
       "Method:                 Least Squares   F-statistic:                     5.729\n",
       "Date:                Sun, 23 Jan 2022   Prob (F-statistic):            0.00408\n",
       "Time:                        14:52:14   Log-Likelihood:                -287.92\n",
       "No. Observations:                 140   AIC:                             581.8\n",
       "Df Residuals:                     137   BIC:                             590.7\n",
       "Df Model:                           2                                         \n",
       "Covariance Type:            nonrobust                                         \n",
       "==================================================================================\n",
       "                     coef    std err          t      P>|t|      [0.025      0.975]\n",
       "----------------------------------------------------------------------------------\n",
       "const              2.6404      0.391      6.751      0.000       1.867       3.414\n",
       "score              0.5603      0.727      0.770      0.442      -0.878       1.998\n",
       "gdp_per_capita -2.949e-05   8.91e-06     -3.312      0.001   -4.71e-05   -1.19e-05\n",
       "==============================================================================\n",
       "Omnibus:                        2.574   Durbin-Watson:                   1.765\n",
       "Prob(Omnibus):                  0.276   Jarque-Bera (JB):                2.500\n",
       "Skew:                          -0.040   Prob(JB):                        0.286\n",
       "Kurtosis:                       3.650   Cond. No.                     1.36e+05\n",
       "==============================================================================\n",
       "\n",
       "Notes:\n",
       "[1] Standard Errors assume that the covariance matrix of the errors is correctly specified.\n",
       "[2] The condition number is large, 1.36e+05. This might indicate that there are\n",
       "strong multicollinearity or other numerical problems.\n",
       "\"\"\""
      ]
     },
     "execution_count": 176,
     "metadata": {},
     "output_type": "execute_result"
    }
   ],
   "source": [
    "gdp_growth_dem = gdp_growth.join(dem).join(gdp).dropna()\n",
    "# gdp_growth_v_dem.groupby(gdp_growth_v_dem.index.get_level_values(0)).mean()\n",
    "rel_gdp_growth_dem: pd.DataFrame =  gdp_growth_dem.loc[:, :]\n",
    "rel_gdp_growth_dem_avg = rel_gdp_growth_dem.groupby(rel_gdp_growth_dem.index.get_level_values(0)).mean()\n",
    "# rel_gdp_dem_avg = rel_gdp_dem_avg[(rel_gdp_dem_avg[\"gdp_per_capita\"] > 40000) & (rel_gdp_dem_avg[\"score\"] < 0.5) == False]\n",
    "plt.scatter(rel_gdp_growth_dem_avg[\"score\"], rel_gdp_growth_dem_avg[\"gdp_growth\"])\n",
    "model = sm.OLS(rel_gdp_growth_dem_avg[\"gdp_growth\"], sm.add_constant(rel_gdp_growth_dem_avg[[\"score\", \"gdp_per_capita\"]]))\n",
    "res = model.fit(q=0.5)\n",
    "x = np.linspace(0, 1)\n",
    "plt.plot(x, res.params[0] + res.params[1]*x)\n",
    "plt.show()\n",
    "res.summary()"
   ]
  },
  {
   "cell_type": "markdown",
   "metadata": {},
   "source": [
    "## Median GDP per Democracy Score"
   ]
  },
  {
   "cell_type": "code",
   "execution_count": 308,
   "metadata": {},
   "outputs": [
    {
     "data": {
      "image/png": "[encoded data removed]",
      "text/plain": [
       "<Figure size 432x288 with 1 Axes>"
      ]
     },
     "metadata": {
      "needs_background": "light"
     },
     "output_type": "display_data"
    }
   ],
   "source": [
    "dem_gdp = dem_raw.join(gdp)\n",
    "bins = pd.cut(dem_gdp[\"v-dem-score\"], bins=[0, 0.2, 0.4, 0.6, 0.8, 1])\n",
    "dem_gdp_data = dem_gdp.groupby([bins, \"year\"]).median()[\"gdp_per_capita\"].reorder_levels([1, 0]).sort_index().unstack()\n",
    "dem_gdp_data.dropna(how=\"all\", inplace=True)\n",
    "plt.plot(dem_gdp_data)\n",
    "plt.legend(dem_gdp_data.columns)\n",
    "plt.xlabel(\"Year\")\n",
    "plt.ylabel(\"Median GDP per Capita ($)\")\n",
    "plt.show()"
   ]
  }
 ],
 "metadata": {
  "interpreter": {
   "hash": "1c7434731747d88815ea98a4470429bf1ebbf9287f8433fda1e0ecccc300fe0c"
  },
  "kernelspec": {
   "display_name": "Python 3.8.3 64-bit ('base': conda)",
   "language": "python",
   "name": "python3"
  },
  "language_info": {
   "codemirror_mode": {
    "name": "ipython",
    "version": 3
   },
   "file_extension": ".py",
   "mimetype": "text/x-python",
   "name": "python",
   "nbconvert_exporter": "python",
   "pygments_lexer": "ipython3",
   "version": "3.8.3"
  },
  "orig_nbformat": 4
 },
 "nbformat": 4,
 "nbformat_minor": 2
}
