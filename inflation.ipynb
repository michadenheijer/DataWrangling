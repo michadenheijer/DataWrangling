{
 "cells": [
  {
   "cell_type": "markdown",
   "metadata": {},
   "source": [
    "# Inflation"
   ]
  },
  {
   "cell_type": "code",
   "execution_count": 9,
   "metadata": {},
   "outputs": [],
   "source": [
    "import numpy as np\n",
    "import pandas as pd\n",
    "import matplotlib.pyplot as plt\n",
    "import statsmodels.api as sm"
   ]
  },
  {
   "cell_type": "markdown",
   "metadata": {},
   "source": [
    "## Read Data"
   ]
  },
  {
   "cell_type": "code",
   "execution_count": 40,
   "metadata": {},
   "outputs": [
    {
     "data": {
      "text/html": [
       "<div>\n",
       "<style scoped>\n",
       "    .dataframe tbody tr th:only-of-type {\n",
       "        vertical-align: middle;\n",
       "    }\n",
       "\n",
       "    .dataframe tbody tr th {\n",
       "        vertical-align: top;\n",
       "    }\n",
       "\n",
       "    .dataframe thead th {\n",
       "        text-align: right;\n",
       "    }\n",
       "</style>\n",
       "<table border=\"1\" class=\"dataframe\">\n",
       "  <thead>\n",
       "    <tr style=\"text-align: right;\">\n",
       "      <th></th>\n",
       "      <th></th>\n",
       "      <th>inflation_rate</th>\n",
       "    </tr>\n",
       "    <tr>\n",
       "      <th>country_name</th>\n",
       "      <th>year</th>\n",
       "      <th></th>\n",
       "    </tr>\n",
       "  </thead>\n",
       "  <tbody>\n",
       "    <tr>\n",
       "      <th rowspan=\"5\" valign=\"top\">Afghanistan</th>\n",
       "      <th>2005</th>\n",
       "      <td>12.686269</td>\n",
       "    </tr>\n",
       "    <tr>\n",
       "      <th>2006</th>\n",
       "      <td>6.784597</td>\n",
       "    </tr>\n",
       "    <tr>\n",
       "      <th>2007</th>\n",
       "      <td>8.680571</td>\n",
       "    </tr>\n",
       "    <tr>\n",
       "      <th>2008</th>\n",
       "      <td>26.418664</td>\n",
       "    </tr>\n",
       "    <tr>\n",
       "      <th>2009</th>\n",
       "      <td>-6.811161</td>\n",
       "    </tr>\n",
       "    <tr>\n",
       "      <th>...</th>\n",
       "      <th>...</th>\n",
       "      <td>...</td>\n",
       "    </tr>\n",
       "    <tr>\n",
       "      <th rowspan=\"5\" valign=\"top\">Zimbabwe</th>\n",
       "      <th>2014</th>\n",
       "      <td>-0.197785</td>\n",
       "    </tr>\n",
       "    <tr>\n",
       "      <th>2015</th>\n",
       "      <td>-2.430968</td>\n",
       "    </tr>\n",
       "    <tr>\n",
       "      <th>2016</th>\n",
       "      <td>-1.543670</td>\n",
       "    </tr>\n",
       "    <tr>\n",
       "      <th>2017</th>\n",
       "      <td>0.893962</td>\n",
       "    </tr>\n",
       "    <tr>\n",
       "      <th>2018</th>\n",
       "      <td>10.618866</td>\n",
       "    </tr>\n",
       "  </tbody>\n",
       "</table>\n",
       "<p>10262 rows × 1 columns</p>\n",
       "</div>"
      ],
      "text/plain": [
       "                   inflation_rate\n",
       "country_name year                \n",
       "Afghanistan  2005       12.686269\n",
       "             2006        6.784597\n",
       "             2007        8.680571\n",
       "             2008       26.418664\n",
       "             2009       -6.811161\n",
       "...                           ...\n",
       "Zimbabwe     2014       -0.197785\n",
       "             2015       -2.430968\n",
       "             2016       -1.543670\n",
       "             2017        0.893962\n",
       "             2018       10.618866\n",
       "\n",
       "[10262 rows x 1 columns]"
      ]
     },
     "execution_count": 40,
     "metadata": {},
     "output_type": "execute_result"
    }
   ],
   "source": [
    "inflation: pd.DataFrame = pd.read_csv(\"data/inflation.csv\", skiprows=[0, 1, 2, 3], index_col=0).drop([\"Country Code\", \"Indicator Name\", \"Indicator Code\", \"Unnamed: 65\"], axis=1)\n",
    "inflation.columns = inflation.columns.astype(int)\n",
    "inflation = inflation.unstack().reorder_levels([1, 0]).sort_index()\n",
    "inflation.index.set_names([\"country_name\", \"year\"], inplace=True)\n",
    "inflation = inflation.to_frame(\"inflation_rate\")\n",
    "inflation.dropna()"
   ]
  },
  {
   "cell_type": "code",
   "execution_count": 11,
   "metadata": {},
   "outputs": [
    {
     "data": {
      "text/html": [
       "<div>\n",
       "<style scoped>\n",
       "    .dataframe tbody tr th:only-of-type {\n",
       "        vertical-align: middle;\n",
       "    }\n",
       "\n",
       "    .dataframe tbody tr th {\n",
       "        vertical-align: top;\n",
       "    }\n",
       "\n",
       "    .dataframe thead th {\n",
       "        text-align: right;\n",
       "    }\n",
       "</style>\n",
       "<table border=\"1\" class=\"dataframe\">\n",
       "  <thead>\n",
       "    <tr style=\"text-align: right;\">\n",
       "      <th></th>\n",
       "      <th>inflation_rate</th>\n",
       "    </tr>\n",
       "    <tr>\n",
       "      <th>country_name</th>\n",
       "      <th></th>\n",
       "    </tr>\n",
       "  </thead>\n",
       "  <tbody>\n",
       "    <tr>\n",
       "      <th>Afghanistan</th>\n",
       "      <td>4.659091</td>\n",
       "    </tr>\n",
       "    <tr>\n",
       "      <th>Africa Eastern and Southern</th>\n",
       "      <td>6.111355</td>\n",
       "    </tr>\n",
       "    <tr>\n",
       "      <th>Africa Western and Central</th>\n",
       "      <td>2.415141</td>\n",
       "    </tr>\n",
       "    <tr>\n",
       "      <th>Albania</th>\n",
       "      <td>1.927873</td>\n",
       "    </tr>\n",
       "    <tr>\n",
       "      <th>Algeria</th>\n",
       "      <td>4.499698</td>\n",
       "    </tr>\n",
       "    <tr>\n",
       "      <th>...</th>\n",
       "      <td>...</td>\n",
       "    </tr>\n",
       "    <tr>\n",
       "      <th>West Bank and Gaza</th>\n",
       "      <td>1.118854</td>\n",
       "    </tr>\n",
       "    <tr>\n",
       "      <th>World</th>\n",
       "      <td>2.523479</td>\n",
       "    </tr>\n",
       "    <tr>\n",
       "      <th>Yemen, Rep.</th>\n",
       "      <td>12.125529</td>\n",
       "    </tr>\n",
       "    <tr>\n",
       "      <th>Zambia</th>\n",
       "      <td>9.472496</td>\n",
       "    </tr>\n",
       "    <tr>\n",
       "      <th>Zimbabwe</th>\n",
       "      <td>2.020852</td>\n",
       "    </tr>\n",
       "  </tbody>\n",
       "</table>\n",
       "<p>266 rows × 1 columns</p>\n",
       "</div>"
      ],
      "text/plain": [
       "                             inflation_rate\n",
       "country_name                               \n",
       "Afghanistan                        4.659091\n",
       "Africa Eastern and Southern        6.111355\n",
       "Africa Western and Central         2.415141\n",
       "Albania                            1.927873\n",
       "Algeria                            4.499698\n",
       "...                                     ...\n",
       "West Bank and Gaza                 1.118854\n",
       "World                              2.523479\n",
       "Yemen, Rep.                       12.125529\n",
       "Zambia                             9.472496\n",
       "Zimbabwe                           2.020852\n",
       "\n",
       "[266 rows x 1 columns]"
      ]
     },
     "execution_count": 11,
     "metadata": {},
     "output_type": "execute_result"
    }
   ],
   "source": [
    "avg_inf = inflation.loc[inflation.index.get_level_values(1) > 2010].copy()\n",
    "avg_inf = avg_inf.groupby(avg_inf.index.get_level_values(0)).mean()\n",
    "avg_inf"
   ]
  },
  {
   "cell_type": "markdown",
   "metadata": {},
   "source": [
    "# Read Democracy"
   ]
  },
  {
   "cell_type": "code",
   "execution_count": 12,
   "metadata": {},
   "outputs": [
    {
     "data": {
      "text/plain": [
       "country_name\n",
       "Afghanistan    0.244206\n",
       "Albania        0.550606\n",
       "Algeria        0.276217\n",
       "Angola         0.240906\n",
       "Argentina      0.713489\n",
       "                 ...   \n",
       "Venezuela      0.328346\n",
       "Vietnam        0.220478\n",
       "Yemen          0.184450\n",
       "Zambia         0.499800\n",
       "Zimbabwe       0.242433\n",
       "Name: score, Length: 152, dtype: float64"
      ]
     },
     "execution_count": 12,
     "metadata": {},
     "output_type": "execute_result"
    }
   ],
   "source": [
    "dem: pd.DataFrame = pd.read_hdf(\"data/democracy.h5\", \"democracy\")\n",
    "dem_country = dem.groupby(dem.index.get_level_values(0)).mean()[\"score\"]\n",
    "dem_country"
   ]
  },
  {
   "cell_type": "markdown",
   "metadata": {},
   "source": [
    "## Create Linear Regression"
   ]
  },
  {
   "cell_type": "code",
   "execution_count": 25,
   "metadata": {},
   "outputs": [
    {
     "name": "stderr",
     "output_type": "stream",
     "text": [
      "/Users/micha/opt/anaconda3/lib/python3.8/site-packages/pandas/core/arraylike.py:364: RuntimeWarning: invalid value encountered in log\n",
      "  result = getattr(ufunc, method)(*inputs, **kwargs)\n"
     ]
    },
    {
     "data": {
      "image/png": "[encoded data removed]",
      "text/plain": [
       "<Figure size 432x288 with 1 Axes>"
      ]
     },
     "metadata": {
      "needs_background": "light"
     },
     "output_type": "display_data"
    },
    {
     "data": {
      "text/html": [
       "<table class=\"simpletable\">\n",
       "<caption>OLS Regression Results</caption>\n",
       "<tr>\n",
       "  <th>Dep. Variable:</th>     <td>inflation_rate</td>  <th>  R-squared:         </th> <td>   0.153</td>\n",
       "</tr>\n",
       "<tr>\n",
       "  <th>Model:</th>                   <td>OLS</td>       <th>  Adj. R-squared:    </th> <td>   0.147</td>\n",
       "</tr>\n",
       "<tr>\n",
       "  <th>Method:</th>             <td>Least Squares</td>  <th>  F-statistic:       </th> <td>   24.22</td>\n",
       "</tr>\n",
       "<tr>\n",
       "  <th>Date:</th>             <td>Mon, 31 Jan 2022</td> <th>  Prob (F-statistic):</th> <td>2.48e-06</td>\n",
       "</tr>\n",
       "<tr>\n",
       "  <th>Time:</th>                 <td>13:26:56</td>     <th>  Log-Likelihood:    </th> <td> -171.30</td>\n",
       "</tr>\n",
       "<tr>\n",
       "  <th>No. Observations:</th>      <td>   136</td>      <th>  AIC:               </th> <td>   346.6</td>\n",
       "</tr>\n",
       "<tr>\n",
       "  <th>Df Residuals:</th>          <td>   134</td>      <th>  BIC:               </th> <td>   352.4</td>\n",
       "</tr>\n",
       "<tr>\n",
       "  <th>Df Model:</th>              <td>     1</td>      <th>                     </th>     <td> </td>   \n",
       "</tr>\n",
       "<tr>\n",
       "  <th>Covariance Type:</th>      <td>nonrobust</td>    <th>                     </th>     <td> </td>   \n",
       "</tr>\n",
       "</table>\n",
       "<table class=\"simpletable\">\n",
       "<tr>\n",
       "    <td></td>       <th>coef</th>     <th>std err</th>      <th>t</th>      <th>P>|t|</th>  <th>[0.025</th>    <th>0.975]</th>  \n",
       "</tr>\n",
       "<tr>\n",
       "  <th>const</th> <td>    1.9119</td> <td>    0.184</td> <td>   10.374</td> <td> 0.000</td> <td>    1.547</td> <td>    2.276</td>\n",
       "</tr>\n",
       "<tr>\n",
       "  <th>score</th> <td>   -1.5139</td> <td>    0.308</td> <td>   -4.922</td> <td> 0.000</td> <td>   -2.122</td> <td>   -0.906</td>\n",
       "</tr>\n",
       "</table>\n",
       "<table class=\"simpletable\">\n",
       "<tr>\n",
       "  <th>Omnibus:</th>       <td> 4.381</td> <th>  Durbin-Watson:     </th> <td>   1.901</td>\n",
       "</tr>\n",
       "<tr>\n",
       "  <th>Prob(Omnibus):</th> <td> 0.112</td> <th>  Jarque-Bera (JB):  </th> <td>   4.286</td>\n",
       "</tr>\n",
       "<tr>\n",
       "  <th>Skew:</th>          <td>-0.262</td> <th>  Prob(JB):          </th> <td>   0.117</td>\n",
       "</tr>\n",
       "<tr>\n",
       "  <th>Kurtosis:</th>      <td> 3.694</td> <th>  Cond. No.          </th> <td>    5.49</td>\n",
       "</tr>\n",
       "</table><br/><br/>Notes:<br/>[1] Standard Errors assume that the covariance matrix of the errors is correctly specified."
      ],
      "text/plain": [
       "<class 'statsmodels.iolib.summary.Summary'>\n",
       "\"\"\"\n",
       "                            OLS Regression Results                            \n",
       "==============================================================================\n",
       "Dep. Variable:         inflation_rate   R-squared:                       0.153\n",
       "Model:                            OLS   Adj. R-squared:                  0.147\n",
       "Method:                 Least Squares   F-statistic:                     24.22\n",
       "Date:                Mon, 31 Jan 2022   Prob (F-statistic):           2.48e-06\n",
       "Time:                        13:26:56   Log-Likelihood:                -171.30\n",
       "No. Observations:                 136   AIC:                             346.6\n",
       "Df Residuals:                     134   BIC:                             352.4\n",
       "Df Model:                           1                                         \n",
       "Covariance Type:            nonrobust                                         \n",
       "==============================================================================\n",
       "                 coef    std err          t      P>|t|      [0.025      0.975]\n",
       "------------------------------------------------------------------------------\n",
       "const          1.9119      0.184     10.374      0.000       1.547       2.276\n",
       "score         -1.5139      0.308     -4.922      0.000      -2.122      -0.906\n",
       "==============================================================================\n",
       "Omnibus:                        4.381   Durbin-Watson:                   1.901\n",
       "Prob(Omnibus):                  0.112   Jarque-Bera (JB):                4.286\n",
       "Skew:                          -0.262   Prob(JB):                        0.117\n",
       "Kurtosis:                       3.694   Cond. No.                         5.49\n",
       "==============================================================================\n",
       "\n",
       "Notes:\n",
       "[1] Standard Errors assume that the covariance matrix of the errors is correctly specified.\n",
       "\"\"\""
      ]
     },
     "execution_count": 25,
     "metadata": {},
     "output_type": "execute_result"
    }
   ],
   "source": [
    "inf_dem = avg_inf.join(dem_country, how=\"inner\").dropna()\n",
    "model = sm.OLS(np.log(inf_dem[\"inflation_rate\"]).replace({np.nan: 1}), sm.add_constant(inf_dem[\"score\"]))\n",
    "regr = model.fit()\n",
    "plt.scatter(inf_dem[\"score\"], inf_dem[\"inflation_rate\"], 16, marker=\"o\", color=\"#ADACB5\")\n",
    "x = np.linspace(0, 1)\n",
    "plt.plot(x, np.exp(regr.predict(sm.add_constant(x))), linewidth=2, color=\"#2E4057\")\n",
    "plt.yscale(\"log\")\n",
    "plt.yticks([0.5, 1.5, 4.5, 12], [\"0.5\", \"1.5\", \"4.5\", \"13.5\"])\n",
    "plt.ylim(0.3, 20)\n",
    "plt.ylabel(\"Inflation (%)\")\n",
    "plt.xlabel(\"Democracy Score\")\n",
    "plt.show()\n",
    "regr.summary()"
   ]
  },
  {
   "cell_type": "markdown",
   "metadata": {},
   "source": [
    "## Inflation over time"
   ]
  },
  {
   "cell_type": "code",
   "execution_count": 50,
   "metadata": {},
   "outputs": [
    {
     "data": {
      "image/png": "[encoded data removed]",
      "text/plain": [
       "<Figure size 432x288 with 1 Axes>"
      ]
     },
     "metadata": {
      "needs_background": "light"
     },
     "output_type": "display_data"
    }
   ],
   "source": [
    "dem_raw = pd.read_hdf(\"data/democracy.h5\", \"democracy_raw\")\n",
    "inf_dem_total = inflation.join(dem_raw[\"v-dem-score\"]).dropna()\n",
    "\n",
    "bins = pd.cut(inf_dem_total[\"v-dem-score\"], bins=[0, 0.4, 0.6, 0.8, 1])\n",
    "inf_dem_total = inf_dem_total.groupby([bins, \"year\"]).median()[\"inflation_rate\"].reorder_levels([1, 0]).sort_index().unstack()\n",
    "inf_dem_total = inf_dem_total.ewm(span=5).mean().rolling(5).mean()\n",
    "inf_dem_total = inf_dem_total.reindex(sorted(inf_dem_total.columns, reverse=True), axis=1)\n",
    "\n",
    "colors = [\"#104F55\", \"#59CD90\", \"#FEB95F\", \"#F71735\"]\n",
    "plt.gca().set_prop_cycle(color=colors)\n",
    "plt.plot(inf_dem_total)\n",
    "plt.legend(inf_dem_total.columns)\n",
    "plt.xlabel(\"Year\")\n",
    "plt.ylabel(\"Inflation (%)\")\n",
    "plt.ylim(0, 20)\n",
    "plt.legend([\"Full Democracy\", \"Partial Democracy\", \"Hybrid Regime\", \"Autocracy\"], frameon=False)\n",
    "plt.show()"
   ]
  }
 ],
 "metadata": {
  "interpreter": {
   "hash": "1c7434731747d88815ea98a4470429bf1ebbf9287f8433fda1e0ecccc300fe0c"
  },
  "kernelspec": {
   "display_name": "Python 3.8.3 64-bit ('base': conda)",
   "language": "python",
   "name": "python3"
  },
  "language_info": {
   "codemirror_mode": {
    "name": "ipython",
    "version": 3
   },
   "file_extension": ".py",
   "mimetype": "text/x-python",
   "name": "python",
   "nbconvert_exporter": "python",
   "pygments_lexer": "ipython3",
   "version": "3.8.3"
  },
  "orig_nbformat": 4
 },
 "nbformat": 4,
 "nbformat_minor": 2
}
